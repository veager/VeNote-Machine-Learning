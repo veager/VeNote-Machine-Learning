{
 "cells": [
  {
   "cell_type": "markdown",
   "metadata": {},
   "source": [
    "# 1. pyloess 程序测试"
   ]
  },
  {
   "cell_type": "code",
   "execution_count": null,
   "metadata": {},
   "outputs": [],
   "source": [
    "import numpy as np\n",
    "import matplotlib.pyplot as plt\n",
    "import pyloess"
   ]
  },
  {
   "cell_type": "markdown",
   "metadata": {},
   "source": [
    "## 1.1. 1-D序列测试"
   ]
  },
  {
   "cell_type": "code",
   "execution_count": null,
   "metadata": {},
   "outputs": [],
   "source": [
    "x = np.linspace(-10, 10, 1000)\n",
    "y = np.sin(x) + np.random.random(1000) * 0.5"
   ]
  },
  {
   "cell_type": "code",
   "execution_count": null,
   "metadata": {},
   "outputs": [],
   "source": [
    "f = plt.figure(figsize=(20,6))\n",
    "plt.scatter(x, y, s=5)\n",
    "plt.show()"
   ]
  },
  {
   "cell_type": "markdown",
   "metadata": {},
   "source": [
    "### 1.1.1. Smooth_edge对比"
   ]
  },
  {
   "cell_type": "code",
   "execution_count": null,
   "metadata": {},
   "outputs": [],
   "source": [
    "loess = pyloess.LocallyWeightedRegression(k=50)\n",
    "\n",
    "y_pred1 = loess.PredictWithoutSmooth(x.reshape((-1, 1)), y, x.reshape((-1, 1)))\n",
    "y_pred2 = loess.PredictWithinSmooth(x.reshape((-1, 1)), y, x.reshape((-1, 1)))\n",
    "\n",
    "f = plt.figure(figsize=(20,6))\n",
    "plt.scatter(x, y, s=5)\n",
    "plt.plot(x, y_pred1, color='green',  label='not smooth edge')\n",
    "plt.plot(x, y_pred2, color='orange', label='smooth edge')\n",
    "plt.legend()\n",
    "plt.show()"
   ]
  },
  {
   "cell_type": "markdown",
   "metadata": {},
   "source": [
    "### 1.1.2. 部分预测"
   ]
  },
  {
   "cell_type": "code",
   "execution_count": null,
   "metadata": {},
   "outputs": [],
   "source": [
    "x1 = np.linspace(5, 10.5, 50)\n",
    "loess = pyloess.LocallyWeightedRegression(k=50)\n",
    "y_pred1 = loess.PredictWithoutSmooth(x.reshape((-1, 1)), y, x1.reshape((-1, 1)))\n",
    "y_pred2 = loess.PredictWithinSmooth(x.reshape((-1, 1)), y, x1.reshape((-1, 1)))\n",
    "\n",
    "f = plt.figure(figsize=(20,6))\n",
    "plt.scatter(x, y, s=5)\n",
    "plt.plot(x1, y_pred1, color='green',  label='not smooth edge')\n",
    "plt.plot(x1, y_pred2, color='orange', label='smooth edge')\n",
    "plt.legend()\n",
    "plt.show()"
   ]
  },
  {
   "cell_type": "markdown",
   "metadata": {},
   "source": [
    "### 1.1.3 Robust测试"
   ]
  },
  {
   "cell_type": "code",
   "execution_count": null,
   "metadata": {},
   "outputs": [],
   "source": [
    "y[100:105] = 1.5 + y[100:105]\n",
    "loess = pyloess.LocallyWeightedRegression(k=50)\n",
    "\n",
    "y_pred1 = loess.Fit(x.reshape((-1, 1)), y)\n",
    "loess.robust = False\n",
    "y_pred2 = loess.Fit(x.reshape((-1, 1)), y)\n",
    "\n",
    "f = plt.figure(figsize=(20,6))\n",
    "plt.scatter(x, y, s=5)\n",
    "plt.plot(x, y_pred1, color='green',  label='robust')\n",
    "plt.plot(x, y_pred2, color='orange', label='not robust')\n",
    "plt.legend()\n",
    "plt.show()"
   ]
  },
  {
   "cell_type": "markdown",
   "metadata": {},
   "source": [
    "## 1.2. 2-D数据测试（待完成）"
   ]
  },
  {
   "cell_type": "code",
   "execution_count": null,
   "metadata": {},
   "outputs": [],
   "source": []
  },
  {
   "cell_type": "markdown",
   "metadata": {},
   "source": [
    "# 2. STL程序测试"
   ]
  },
  {
   "cell_type": "markdown",
   "metadata": {},
   "source": [
    "## 2.1. statsmodels 中 STL 类"
   ]
  },
  {
   "cell_type": "code",
   "execution_count": null,
   "metadata": {},
   "outputs": [],
   "source": [
    "import matplotlib.pyplot as plt\n",
    "import matplotlib \n",
    "matplotlib.rcParams['figure.figsize'] = [20, 10]\n",
    "\n",
    "from statsmodels.datasets import co2\n",
    "# 加载数据\n",
    "data = co2.load(True).data\n",
    "data = data.resample('M').mean().ffill()\n",
    "data = data.values.flatten()"
   ]
  },
  {
   "cell_type": "code",
   "execution_count": null,
   "metadata": {},
   "outputs": [],
   "source": [
    "from statsmodels.tsa.seasonal import STL\n",
    "res = STL(data, period=12).fit()\n",
    "res.plot()"
   ]
  },
  {
   "cell_type": "markdown",
   "metadata": {},
   "source": [
    "## 2.2. 自己 code pystl\n",
    "### 2.2.1. 常规"
   ]
  },
  {
   "cell_type": "code",
   "execution_count": null,
   "metadata": {},
   "outputs": [],
   "source": [
    "from pystl import SeasonalTrendDecomposition\n",
    "stl = SeasonalTrendDecomposition(\n",
    "    period_length = 12, \n",
    "    k1=6, k2=12, k3=12, \n",
    "    n_inner = 2, \n",
    "    n_outer = 3\n",
    ")\n",
    "\n",
    "stl.Fit(data)\n",
    "results = stl.CombineResutls()\n",
    "results.plot(subplots=True)"
   ]
  },
  {
   "cell_type": "markdown",
   "metadata": {},
   "source": [
    "### 2.2.2 缺失值"
   ]
  },
  {
   "cell_type": "code",
   "execution_count": 58,
   "metadata": {},
   "outputs": [],
   "source": [
    "import random\n",
    "# 离散缺失\n",
    "data_missing1 = data.copy()\n",
    "data_missing2 = data.copy()\n",
    "\n",
    "for i in range(data.shape[0]):\n",
    "    if random.random() > 0.5:\n",
    "        data_missing1[i] = np.nan\n",
    "    if random.random() > 0.7:\n",
    "        data_missing2[i] = np.nan\n",
    "# 连续缺失\n",
    "data_missing1[100:250] = np.nan\n",
    "data_missing2[100:110] = np.nan\n",
    "\n",
    "stl1 = SeasonalTrendDecomposition(\n",
    "    period_length = 12, \n",
    "    k1=6, k2=12, k3=12, \n",
    "    n_inner = 2, \n",
    "    n_outer = 2\n",
    ")\n",
    "stl1.Fit(data_missing1)\n",
    "results1 = stl1.CombineResutls()\n",
    "\n",
    "stl2 = SeasonalTrendDecomposition(\n",
    "    period_length = 12, \n",
    "    k1=6, k2=12, k3=12, \n",
    "    n_inner = 2, \n",
    "    n_outer = 2\n",
    ")\n",
    "stl2.Fit(data_missing2)\n",
    "results2 = stl2.CombineResutls()\n",
    "\n",
    "results1.plot(subplots=True)\n",
    "results2.plot(subplots=True)"
   ]
  },
  {
   "cell_type": "markdown",
   "metadata": {},
   "source": [
    "### 2.2.3. 包外样本分解（待完成）"
   ]
  },
  {
   "cell_type": "code",
   "execution_count": null,
   "metadata": {},
   "outputs": [],
   "source": []
  }
 ],
 "metadata": {
  "kernelspec": {
   "display_name": "Python 3",
   "language": "python",
   "name": "python3"
  },
  "language_info": {
   "codemirror_mode": {
    "name": "ipython",
    "version": 3
   },
   "file_extension": ".py",
   "mimetype": "text/x-python",
   "name": "python",
   "nbconvert_exporter": "python",
   "pygments_lexer": "ipython3",
   "version": "3.7.3"
  }
 },
 "nbformat": 4,
 "nbformat_minor": 4
}
