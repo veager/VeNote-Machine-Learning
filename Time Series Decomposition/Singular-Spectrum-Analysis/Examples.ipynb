{
 "cells": [
  {
   "cell_type": "code",
   "execution_count": 9,
   "id": "coordinated-treaty",
   "metadata": {},
   "outputs": [
    {
     "name": "stdout",
     "output_type": "stream",
     "text": [
      "<class 'numpy.ndarray'>\n",
      "(12, 505)\n"
     ]
    },
    {
     "data": {
      "text/plain": [
       "[<matplotlib.lines.Line2D at 0x1f2021cf2e0>]"
      ]
     },
     "execution_count": 9,
     "metadata": {},
     "output_type": "execute_result"
    },
    {
     "data": {
      "image/png": "[encoded data removed]",
      "text/plain": [
       "<Figure size 432x288 with 1 Axes>"
      ]
     },
     "metadata": {
      "needs_background": "light"
     },
     "output_type": "display_data"
    }
   ],
   "source": [
    "import numpy as np\n",
    "from pySingularSpectrumAnalysis import SingularSpectrumAnalysis\n",
    "\n",
    "from statsmodels.datasets import co2\n",
    "import matplotlib.pyplot as plt\n",
    "\n",
    "data = co2.load(True).data\n",
    "data = data.resample('M').mean().ffill()\n",
    "data = data.values.flatten()[10:]\n",
    "\n",
    "print(type(data))\n",
    "ssa = SingularSpectrumAnalysis(L=12)\n",
    "comps = ssa.decomposition(data)\n",
    "# plt.plot(comps[:, 1:])\n",
    "lgsigma = np.log(ssa.sigma)\n",
    "\n",
    "plt.plot(np.cumsum(lgsigma)[:-1] - np.cumsum(lgsigma)[1:])"
   ]
  },
  {
   "cell_type": "code",
   "execution_count": null,
   "id": "legitimate-cooper",
   "metadata": {},
   "outputs": [],
   "source": []
  }
 ],
 "metadata": {
  "kernelspec": {
   "display_name": "Python 3",
   "language": "python",
   "name": "python3"
  },
  "language_info": {
   "codemirror_mode": {
    "name": "ipython",
    "version": 3
   },
   "file_extension": ".py",
   "mimetype": "text/x-python",
   "name": "python",
   "nbconvert_exporter": "python",
   "pygments_lexer": "ipython3",
   "version": "3.7.7"
  }
 },
 "nbformat": 4,
 "nbformat_minor": 5
}
