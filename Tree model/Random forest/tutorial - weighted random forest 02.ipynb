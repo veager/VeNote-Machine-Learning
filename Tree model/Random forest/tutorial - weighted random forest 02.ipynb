{
 "cells": [
  {
   "cell_type": "code",
   "id": "initial_id",
   "metadata": {
    "collapsed": true,
    "ExecuteTime": {
     "end_time": "2024-08-17T11:30:01.757019Z",
     "start_time": "2024-08-17T11:29:59.233198Z"
    }
   },
   "source": [
    "import tqdm\n",
    "import numpy as np\n",
    "import pandas as pd\n",
    "\n",
    "from sklearn.model_selection import train_test_split\n",
    "from sklearn.tree import DecisionTreeRegressor, plot_tree\n",
    "from sklearn.ensemble import RandomForestRegressor\n",
    "\n",
    "import matplotlib.pyplot as plt\n",
    "plt.style.use('default')\n",
    "\n",
    "from utils.model_measure import print_regression_measure, measure_regression\n",
    "from sklearn.metrics import root_mean_squared_error"
   ],
   "outputs": [],
   "execution_count": 1
  },
  {
   "metadata": {},
   "cell_type": "markdown",
   "source": [
    "# 1. Dataset\n",
    "\n",
    "a regression dataset"
   ],
   "id": "bf87d3c7a0f5944e"
  },
  {
   "metadata": {
    "ExecuteTime": {
     "end_time": "2024-08-17T11:30:01.943272Z",
     "start_time": "2024-08-17T11:30:01.760006Z"
    }
   },
   "cell_type": "code",
   "source": [
    "from sklearn.datasets import load_diabetes\n",
    "data_X, data_Y = load_diabetes(return_X_y=True, as_frame=False)\n",
    "\n",
    "n_samples = len(data_X)\n",
    "\n",
    "# sample weights\n",
    "rng = np.random.default_rng(seed=42)\n",
    "data_weight = rng.normal(loc=0.0, scale=1.0, size=n_samples)\n",
    "data_weight = np.abs(data_weight) + 1.0\n",
    "\n",
    "train_idx, test_idx = train_test_split(range(n_samples), test_size=0.3, random_state=0)\n",
    "train_X, test_X = data_X[train_idx], data_X[test_idx]\n",
    "train_Y, test_Y = data_Y[train_idx], data_Y[test_idx]\n",
    "train_weight, test_weight = data_weight[train_idx], data_weight[test_idx]\n",
    "\n",
    "print('\\nShape of dataset:', data_X.shape, data_Y.shape, data_weight.shape,\n",
    "      '\\nShape of training set:', train_X.shape, train_Y.shape, train_weight.shape,\n",
    "      '\\nShape of testing set:', test_X.shape, test_Y.shape, test_weight.shape)"
   ],
   "id": "fc38889bc2263e99",
   "outputs": [
    {
     "name": "stdout",
     "output_type": "stream",
     "text": [
      "\n",
      "Shape of dataset: (442, 10) (442,) (442,) \n",
      "Shape of training set: (309, 10) (309,) (309,) \n",
      "Shape of testing set: (133, 10) (133,) (133,)\n"
     ]
    }
   ],
   "execution_count": 2
  },
  {
   "metadata": {
    "ExecuteTime": {
     "end_time": "2024-08-17T11:30:02.563605Z",
     "start_time": "2024-08-17T11:30:01.947255Z"
    }
   },
   "cell_type": "code",
   "source": [
    "fig, axes = plt.subplots(1, 2, figsize=(8, 3.5))\n",
    "\n",
    "ax = axes[0]\n",
    "ax.hist(data_weight, bins=40)\n",
    "ax.set_title('Distribution of sample weights')\n",
    "\n",
    "ax = axes[1]\n",
    "ax.hist(test_Y, bins=40)\n",
    "ax.set_title('Distribution of target')"
   ],
   "id": "1717f2951ea2c4f1",
   "outputs": [
    {
     "data": {
      "text/plain": [
       "Text(0.5, 1.0, 'Distribution of target')"
      ]
     },
     "execution_count": 3,
     "metadata": {},
     "output_type": "execute_result"
    },
    {
     "data": {
      "text/plain": [
       "<Figure size 800x350 with 2 Axes>"
      ],
      "image/png": "[encoded data removed]"
     },
     "metadata": {},
     "output_type": "display_data"
    }
   ],
   "execution_count": 3
  },
  {
   "metadata": {},
   "cell_type": "markdown",
   "source": [
    "# 2. Weighted bootstrap (bagging)\n",
    "\n"
   ],
   "id": "ef29d8123c1a5641"
  },
  {
   "metadata": {
    "ExecuteTime": {
     "end_time": "2024-08-17T11:30:02.594469Z",
     "start_time": "2024-08-17T11:30:02.568583Z"
    }
   },
   "cell_type": "code",
   "source": [
    "import utils.bagging_model\n",
    "import importlib\n",
    "importlib.reload(utils.bagging_model)\n",
    "\n",
    "from utils.bagging_model import WeightedBaggingRegressor\n",
    "from sklearn.tree import DecisionTreeRegressor\n",
    "from sklearn.ensemble import RandomForestRegressor"
   ],
   "id": "449daf78ba6dc3d2",
   "outputs": [],
   "execution_count": 4
  },
  {
   "metadata": {
    "ExecuteTime": {
     "end_time": "2024-08-17T11:30:02.640790Z",
     "start_time": "2024-08-17T11:30:02.603433Z"
    }
   },
   "cell_type": "code",
   "source": [
    "def model_evaluation(model, train_X, train_Y, test_X, test_Y, train_weight, test_weight, weighted_fitting=False):\n",
    "    \n",
    "    if weighted_fitting:\n",
    "        model.fit(train_X, train_Y, train_weight)\n",
    "    else:\n",
    "        model.fit(train_X, train_Y)\n",
    "    \n",
    "    measure = dict({'oob_rmse' : model.oob_score_})\n",
    "\n",
    "    train_Y_pred = model.predict(train_X)\n",
    "    test_Y_pred = model.predict(test_X)\n",
    "\n",
    "    train_m = measure_regression(train_Y, train_Y_pred, train_weight)\n",
    "    test_m  = measure_regression(test_Y, test_Y_pred, test_weight)\n",
    "\n",
    "    measure.update({f'train_{k}' : v for k, v in train_m.items()})\n",
    "    measure.update({f'test_{k}' : v for k, v in test_m.items()})\n",
    "    \n",
    "    return measure"
   ],
   "id": "d098e9f38b8dde9e",
   "outputs": [],
   "execution_count": 5
  },
  {
   "metadata": {
    "ExecuteTime": {
     "end_time": "2024-08-17T11:30:06.579982Z",
     "start_time": "2024-08-17T11:30:02.645768Z"
    }
   },
   "cell_type": "code",
   "source": [
    "model = WeightedBaggingRegressor(\n",
    "    estimator = DecisionTreeRegressor(),\n",
    "    n_estimators = 100,\n",
    "    bootstrap = True,\n",
    "    bootstrap_features = False,\n",
    "    max_samples = 1.0,\n",
    "    max_features = None,\n",
    "    weighted_bootstrap = False,\n",
    "    weighted_training = False,\n",
    "    oob_score = True,\n",
    "    random_state = 0,\n",
    "    n_jobs = 10,\n",
    "    verbose = 0)\n",
    "\n",
    "peformance = {}\n",
    "\n",
    "model.set_params(weighted_bootstrap=False, weighted_training=False)\n",
    "peformance['BU-TU'] = model_evaluation(model, train_X, train_Y, test_X, test_Y, train_weight, test_weight, weighted_fitting=False)\n",
    "\n",
    "model.set_params(weighted_bootstrap=True, weighted_training=False)\n",
    "peformance['BW-TU'] = model_evaluation(model, train_X, train_Y, test_X, test_Y, train_weight, test_weight, weighted_fitting=True)\n",
    "\n",
    "model.set_params(weighted_bootstrap=False, weighted_training=True)\n",
    "peformance['BU-TW'] = model_evaluation(model, train_X, train_Y, test_X, test_Y, train_weight, test_weight, weighted_fitting=True)\n",
    "\n",
    "model.set_params(weighted_bootstrap=True, weighted_training=True)\n",
    "peformance['BW-TW'] = model_evaluation(model, train_X, train_Y, test_X, test_Y, train_weight, test_weight, weighted_fitting=True)\n",
    "\n",
    "pd.DataFrame.from_dict(peformance).T"
   ],
   "id": "d0bb04bf36739e48",
   "outputs": [
    {
     "data": {
      "text/plain": [
       "        oob_rmse  train_mae   train_mse  train_rmse  train_mape  train_r2  \\\n",
       "BU-TU  58.890680  17.521964  465.908303   21.584909    0.157827  0.924939   \n",
       "BW-TU  57.513884  16.348199  442.414255   21.033646    0.145335  0.915051   \n",
       "BU-TW  58.953164  17.664953  471.378941   21.711263    0.155935  0.924777   \n",
       "BW-TW  57.943491  16.335283  442.368467   21.032557    0.145580  0.915552   \n",
       "\n",
       "        test_mae     test_mse  test_rmse  test_mape   test_r2  \n",
       "BU-TU  47.086481  3388.687169  58.212431   0.394759  0.299773  \n",
       "BW-TU  47.164956  3469.393474  58.901557   0.400382  0.287324  \n",
       "BU-TW  47.057284  3398.188004  58.293979   0.395456  0.302158  \n",
       "BW-TW  48.350840  3613.238262  60.110218   0.415339  0.261433  "
      ],
      "text/html": [
       "<div>\n",
       "<style scoped>\n",
       "    .dataframe tbody tr th:only-of-type {\n",
       "        vertical-align: middle;\n",
       "    }\n",
       "\n",
       "    .dataframe tbody tr th {\n",
       "        vertical-align: top;\n",
       "    }\n",
       "\n",
       "    .dataframe thead th {\n",
       "        text-align: right;\n",
       "    }\n",
       "</style>\n",
       "<table border=\"1\" class=\"dataframe\">\n",
       "  <thead>\n",
       "    <tr style=\"text-align: right;\">\n",
       "      <th></th>\n",
       "      <th>oob_rmse</th>\n",
       "      <th>train_mae</th>\n",
       "      <th>train_mse</th>\n",
       "      <th>train_rmse</th>\n",
       "      <th>train_mape</th>\n",
       "      <th>train_r2</th>\n",
       "      <th>test_mae</th>\n",
       "      <th>test_mse</th>\n",
       "      <th>test_rmse</th>\n",
       "      <th>test_mape</th>\n",
       "      <th>test_r2</th>\n",
       "    </tr>\n",
       "  </thead>\n",
       "  <tbody>\n",
       "    <tr>\n",
       "      <th>BU-TU</th>\n",
       "      <td>58.890680</td>\n",
       "      <td>17.521964</td>\n",
       "      <td>465.908303</td>\n",
       "      <td>21.584909</td>\n",
       "      <td>0.157827</td>\n",
       "      <td>0.924939</td>\n",
       "      <td>47.086481</td>\n",
       "      <td>3388.687169</td>\n",
       "      <td>58.212431</td>\n",
       "      <td>0.394759</td>\n",
       "      <td>0.299773</td>\n",
       "    </tr>\n",
       "    <tr>\n",
       "      <th>BW-TU</th>\n",
       "      <td>57.513884</td>\n",
       "      <td>16.348199</td>\n",
       "      <td>442.414255</td>\n",
       "      <td>21.033646</td>\n",
       "      <td>0.145335</td>\n",
       "      <td>0.915051</td>\n",
       "      <td>47.164956</td>\n",
       "      <td>3469.393474</td>\n",
       "      <td>58.901557</td>\n",
       "      <td>0.400382</td>\n",
       "      <td>0.287324</td>\n",
       "    </tr>\n",
       "    <tr>\n",
       "      <th>BU-TW</th>\n",
       "      <td>58.953164</td>\n",
       "      <td>17.664953</td>\n",
       "      <td>471.378941</td>\n",
       "      <td>21.711263</td>\n",
       "      <td>0.155935</td>\n",
       "      <td>0.924777</td>\n",
       "      <td>47.057284</td>\n",
       "      <td>3398.188004</td>\n",
       "      <td>58.293979</td>\n",
       "      <td>0.395456</td>\n",
       "      <td>0.302158</td>\n",
       "    </tr>\n",
       "    <tr>\n",
       "      <th>BW-TW</th>\n",
       "      <td>57.943491</td>\n",
       "      <td>16.335283</td>\n",
       "      <td>442.368467</td>\n",
       "      <td>21.032557</td>\n",
       "      <td>0.145580</td>\n",
       "      <td>0.915552</td>\n",
       "      <td>48.350840</td>\n",
       "      <td>3613.238262</td>\n",
       "      <td>60.110218</td>\n",
       "      <td>0.415339</td>\n",
       "      <td>0.261433</td>\n",
       "    </tr>\n",
       "  </tbody>\n",
       "</table>\n",
       "</div>"
      ]
     },
     "execution_count": 6,
     "metadata": {},
     "output_type": "execute_result"
    }
   ],
   "execution_count": 6
  },
  {
   "metadata": {},
   "cell_type": "markdown",
   "source": [
    "# 3. Comparison test\n",
    "\n",
    "- Unweighted BaggingRegressor vs RandomForestRegressor\n",
    "\n",
    "Based on the model principle, if sample weights for bootstrapping process are not considered in `WeightedBaggingRegressor`, the two models should have the same performance.\n",
    "\n",
    "Consider the randomization process of bootstrapping, repeated trials are conducted to evaluate the performance of two models."
   ],
   "id": "1d68380a5a428313"
  },
  {
   "metadata": {},
   "cell_type": "markdown",
   "source": "## 3.1 Repeated trials",
   "id": "94ddf8d47ff8b33d"
  },
  {
   "metadata": {
    "ExecuteTime": {
     "end_time": "2024-08-17T11:30:06.595907Z",
     "start_time": "2024-08-17T11:30:06.582965Z"
    }
   },
   "cell_type": "code",
   "source": [
    "def model_evaluation(model, train_X, train_Y, test_X, test_Y):\n",
    "\n",
    "    model.fit(train_X, train_Y)\n",
    "\n",
    "    measure = dict({'oob_r2' : model.oob_score_})\n",
    "\n",
    "    train_Y_pred = model.predict(train_X)\n",
    "    test_Y_pred = model.predict(test_X)\n",
    "\n",
    "    train_m = measure_regression(train_Y, train_Y_pred)\n",
    "    test_m  = measure_regression(test_Y, test_Y_pred)\n",
    "\n",
    "    measure.update({f'train_{k}' : v for k, v in train_m.items()})\n",
    "    measure.update({f'test_{k}' : v for k, v in test_m.items()})\n",
    "\n",
    "    return measure\n",
    "# ============================================================================="
   ],
   "id": "aaf0741d414522f",
   "outputs": [],
   "execution_count": 7
  },
  {
   "metadata": {
    "jupyter": {
     "is_executing": true
    },
    "ExecuteTime": {
     "start_time": "2024-08-17T11:30:06.599850Z"
    }
   },
   "cell_type": "code",
   "source": [
    "n_trials = 200\n",
    "\n",
    "seeds = np.random.randint(0, 1e6, n_trials).tolist()\n",
    "n_estimators = np.random.randint(100, 500, n_trials).tolist()\n",
    "\n",
    "score_wb = []\n",
    "score_rf = []\n",
    "\n",
    "for seed, n_estimator in tqdm.tqdm(zip(seeds, n_estimators)):\n",
    "\n",
    "    model = WeightedBaggingRegressor(\n",
    "        n_estimators = n_estimator,\n",
    "        random_state = seed,\n",
    "        estimator = DecisionTreeRegressor(),\n",
    "        bootstrap = True,\n",
    "        bootstrap_features = False,\n",
    "        max_samples = 1.0,\n",
    "        max_features = None,\n",
    "        weighted_bootstrap = False, weighted_training = False,\n",
    "        oob_score = True,\n",
    "        n_jobs = 10, verbose = 0)\n",
    "\n",
    "    measure = model_evaluation(model, train_X, train_Y, test_X, test_Y)\n",
    "    measure.update({'seed' : seed, 'n_estimator' : n_estimator})\n",
    "    score_wb.append(measure)\n",
    "    \n",
    "    \n",
    "    model = RandomForestRegressor(\n",
    "        n_estimators = n_estimator,\n",
    "        random_state = seed,\n",
    "        bootstrap = True,\n",
    "        max_samples = 1.0,\n",
    "        max_features = 1.0,\n",
    "        oob_score = root_mean_squared_error,\n",
    "        n_jobs = 10, verbose = 0)\n",
    "\n",
    "    measure = model_evaluation(model, train_X, train_Y, test_X, test_Y)\n",
    "    measure.update({'seed' : seed, 'n_estimator' : n_estimator})\n",
    "    score_rf.append(measure)\n",
    "\n",
    "\n",
    "score_wb = pd.DataFrame(score_wb)\n",
    "score_rf = pd.DataFrame(score_rf)"
   ],
   "id": "ac0cca9115496a4c",
   "outputs": [
    {
     "name": "stderr",
     "output_type": "stream",
     "text": [
      "0it [00:00, ?it/s]"
     ]
    }
   ],
   "execution_count": null
  },
  {
   "metadata": {},
   "cell_type": "markdown",
   "source": "## 3.2 Paired t-test of performance",
   "id": "c51ea7c61e48efaf"
  },
  {
   "metadata": {
    "jupyter": {
     "is_executing": true
    }
   },
   "cell_type": "code",
   "source": [
    "# paired t-test\n",
    "# Calculate the t-test on TWO RELATED samples of scores, a and b.\n",
    "# This is a test for the null hypothesis that two related or repeated samples have identical average (expected) values.\n",
    "# P > 0.05 : no enough evidence to reject the null hypothesis that model performance is the same\n",
    "from scipy.stats import ttest_rel\n",
    "\n",
    "for col in score_rf.columns:\n",
    "    \n",
    "    t, p = ttest_rel(score_wb[col], score_rf[col])\n",
    "    print(f'{col:>11}: t = {t:>7.3f}, p = {p:.3f}')"
   ],
   "id": "716c110cb3569a36",
   "outputs": [],
   "execution_count": null
  }
 ],
 "metadata": {
  "kernelspec": {
   "display_name": "Python 3",
   "language": "python",
   "name": "python3"
  },
  "language_info": {
   "codemirror_mode": {
    "name": "ipython",
    "version": 2
   },
   "file_extension": ".py",
   "mimetype": "text/x-python",
   "name": "python",
   "nbconvert_exporter": "python",
   "pygments_lexer": "ipython2",
   "version": "2.7.6"
  }
 },
 "nbformat": 4,
 "nbformat_minor": 5
}
