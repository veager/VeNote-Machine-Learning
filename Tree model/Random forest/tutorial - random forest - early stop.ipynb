{
 "cells": [
  {
   "cell_type": "code",
   "id": "initial_id",
   "metadata": {
    "collapsed": true,
    "ExecuteTime": {
     "end_time": "2024-08-09T07:19:26.917245Z",
     "start_time": "2024-08-09T07:19:26.903339Z"
    }
   },
   "source": [
    "import copy\n",
    "import numpy as np\n",
    "import pandas as pd\n",
    "\n",
    "from sklearn.model_selection import train_test_split\n",
    "from sklearn.tree import DecisionTreeRegressor, plot_tree\n",
    "from sklearn.ensemble import RandomForestRegressor\n",
    "from sklearn.metrics import mean_squared_error\n",
    "\n",
    "import matplotlib.pyplot as plt\n",
    "plt.style.use('default')\n",
    "\n",
    "import tqdm\n",
    "\n",
    "from utils.model_measure import print_regression_measure"
   ],
   "outputs": [],
   "execution_count": 19
  },
  {
   "metadata": {},
   "cell_type": "markdown",
   "source": "# 1. Dataset",
   "id": "a8939d1bb9cb2674"
  },
  {
   "metadata": {
    "ExecuteTime": {
     "end_time": "2024-08-09T07:19:27.510377Z",
     "start_time": "2024-08-09T07:19:27.484369Z"
    }
   },
   "cell_type": "code",
   "source": [
    "from sklearn.datasets import load_diabetes\n",
    "data_X, data_Y = load_diabetes(return_X_y=True, as_frame=False)\n",
    "\n",
    "n_samples = len(data_X)\n",
    "\n",
    "# sample weights\n",
    "# rng = np.random.default_rng(seed=42)\n",
    "# data_weight = rng.normal(loc=0.0, scale=1.0, size=n_samples)\n",
    "# data_weight = np.abs(data_weight) + 1.0\n",
    "\n",
    "train_idx, test_idx = train_test_split(range(n_samples), test_size=0.3, random_state=0)\n",
    "train_X, test_X = data_X[train_idx], data_X[test_idx]\n",
    "train_Y, test_Y = data_Y[train_idx], data_Y[test_idx]\n",
    "# train_weight, test_weight = data_weight[train_idx], data_weight[test_idx]\n",
    "\n",
    "print('\\nShape of dataset:', data_X.shape, data_Y.shape,\n",
    "      '\\nShape of training set:', train_X.shape, train_Y.shape,\n",
    "      '\\nShape of testing set:', test_X.shape, test_Y.shape)"
   ],
   "id": "6c3861a797b0dc13",
   "outputs": [
    {
     "name": "stdout",
     "output_type": "stream",
     "text": [
      "\n",
      "Shape of dataset: (442, 10) (442,) \n",
      "Shape of training set: (309, 10) (309,) \n",
      "Shape of testing set: (133, 10) (133,)\n"
     ]
    }
   ],
   "execution_count": 20
  },
  {
   "metadata": {},
   "cell_type": "markdown",
   "source": [
    "# 2 Early stop\n",
    "\n",
    "utilizing warm start to gradually increase subtree\n",
    "\n",
    "- `warm_start = True`: gradually increase subtree models for the previously trained random forest\n",
    "\n",
    "Based on tested results, if fix the random seed (i.e., `random_state`), there is no difference of the prediction results for whether using `warm_start` or not."
   ],
   "id": "532177111700502f"
  },
  {
   "metadata": {},
   "cell_type": "markdown",
   "source": "## 2.1. Regarding warm start",
   "id": "b364b685f2cd4477"
  },
  {
   "metadata": {
    "ExecuteTime": {
     "end_time": "2024-08-09T07:42:37.657406Z",
     "start_time": "2024-08-09T07:42:37.649398Z"
    }
   },
   "cell_type": "code",
   "source": [
    "import time\n",
    "import warnings\n",
    "warnings.filterwarnings('ignore', category=UserWarning)\n",
    "\n",
    "def rf_increment_training(data_X, data_Y, max_estimators=500, warm_start=True):\n",
    "    '''\n",
    "    gradually add decision trees for random forest model\n",
    "    '''\n",
    "    params = {\n",
    "        'criterion'         : 'squared_error',\n",
    "        'max_depth'         : None,\n",
    "        'min_samples_split' : 2,\n",
    "        'max_features'      : 1.0,\n",
    "        'bootstrap'         : True,\n",
    "        'oob_score'         : mean_squared_error,\n",
    "        'n_jobs'            : 1,\n",
    "        'random_state'      : None}\n",
    "    \n",
    "    # initialization\n",
    "    model = RandomForestRegressor(n_estimators=1, warm_start=False, **params)\n",
    "    model.fit(data_X, data_Y)\n",
    "    \n",
    "    model_li = []\n",
    "    model_li.append(copy.deepcopy(model))\n",
    "    \n",
    "    for n_estimators in tqdm.tqdm(range(2, max_estimators+1)):\n",
    "        # refit model\n",
    "        model.set_params(n_estimators=n_estimators, warm_start=warm_start)\n",
    "        model.fit(data_X, data_Y)\n",
    "        \n",
    "        model_li.append(copy.deepcopy(model))\n",
    "        \n",
    "    score = np.array([model.oob_score_ for model in model_li])\n",
    "    \n",
    "    return model_li, score\n",
    "# =========================================================================\n",
    "def subtree_predict_result(rf_li, data_X, subtree_idx=0):\n",
    "    '''\n",
    "    from a series of RF model with continuously increased subtrees,\n",
    "    obtain the prediction results of a specific subtrees within every RF models\n",
    "    '''\n",
    "    predict = {}\n",
    "    for ix, rf in enumerate(rf_li):\n",
    "        if ix < subtree_idx:\n",
    "            continue\n",
    "        else:\n",
    "            predict[ix] = rf.estimators_[subtree_idx].predict(data_X)\n",
    "    \n",
    "    return pd.DataFrame(predict)  \n",
    "# ========================================================================="
   ],
   "id": "686e90cccb781fa4",
   "outputs": [],
   "execution_count": 44
  },
  {
   "metadata": {
    "ExecuteTime": {
     "end_time": "2024-08-09T07:42:51.122221Z",
     "start_time": "2024-08-09T07:42:38.275621Z"
    }
   },
   "cell_type": "code",
   "source": [
    "t1 = time.process_time()\n",
    "model_li_ws, score_ws = rf_increment_training(data_X, data_Y, max_estimators=100, warm_start=True)\n",
    "\n",
    "t2 = time.process_time()\n",
    "model_li, score = rf_increment_training(data_X, data_Y, max_estimators=100, warm_start=False)\n",
    "\n",
    "t3 = time.process_time()\n",
    "print('\\nTime used for training RFs with warm start:', t2-t1,\n",
    "      '\\nTime used for training RFs without warm start:', t3-t2)"
   ],
   "id": "d7b78180b53d483c",
   "outputs": [
    {
     "name": "stderr",
     "output_type": "stream",
     "text": [
      "100%|██████████| 99/99 [00:01<00:00, 66.81it/s] \n",
      "100%|██████████| 99/99 [00:11<00:00,  8.82it/s]"
     ]
    },
    {
     "name": "stdout",
     "output_type": "stream",
     "text": [
      "\n",
      "Time used for training RFs with warm start: 0.4375 \n",
      "Time used for training RFs without warm start: 5.171875\n"
     ]
    },
    {
     "name": "stderr",
     "output_type": "stream",
     "text": [
      "\n"
     ]
    }
   ],
   "execution_count": 45
  },
  {
   "metadata": {
    "ExecuteTime": {
     "end_time": "2024-08-09T07:42:53.173727Z",
     "start_time": "2024-08-09T07:42:53.014332Z"
    }
   },
   "cell_type": "code",
   "source": [
    "# plot oob score\n",
    "fig, ax = plt.subplots(1, 1, figsize=(5, 4))\n",
    "\n",
    "ax.plot(score_ws, color='red', label='With warm start')\n",
    "ax.plot(score, color='blue', ls='--', label='Without warm start')\n",
    "ax.legend()\n",
    "\n",
    "ax.set_xlabel('Number of decision trees')\n",
    "ax.set_ylabel('OOB score (MSE)')\n",
    "ax.set_yscale('log')"
   ],
   "id": "ea0fdd7c3fcf403a",
   "outputs": [
    {
     "data": {
      "text/plain": [
       "<Figure size 500x400 with 1 Axes>"
      ],
      "image/png": "[encoded data removed]"
     },
     "metadata": {},
     "output_type": "display_data"
    }
   ],
   "execution_count": 46
  },
  {
   "metadata": {},
   "cell_type": "markdown",
   "source": [
    "#### Prediction results of subtrees\n",
    "\n",
    "**Assumption:** if the subtree at the same sequential locations (i.e., same indices) of RF models have the same prediction results (as a proxy of model parameters), the \"warm start\" utilizes the gradually adding decision trees approach to train a RF model"
   ],
   "id": "8163d3b98b6f7954"
  },
  {
   "metadata": {
    "ExecuteTime": {
     "end_time": "2024-08-09T07:46:52.437035Z",
     "start_time": "2024-08-09T07:46:52.008439Z"
    }
   },
   "cell_type": "code",
   "source": [
    "for i in range(0, 20):\n",
    "    print('\\nSubsequent index of subtree:', i)\n",
    "           \n",
    "    # with warm start\n",
    "    predict = subtree_predict_result(model_li_ws, data_X, subtree_idx=i)\n",
    "    pred_std = predict.std(axis=1)\n",
    "    print(pred_std.min(), pred_std.max())\n",
    "    \n",
    "    # without warm start\n",
    "    predict = subtree_predict_result(model_li, data_X, subtree_idx=i)\n",
    "    pred_std = predict.std(axis=1)\n",
    "    print(pred_std.min(), pred_std.max())"
   ],
   "id": "fd6e220747e9b0d7",
   "outputs": [
    {
     "name": "stdout",
     "output_type": "stream",
     "text": [
      "\n",
      "Subsequent index of subtree: 0\n",
      "0.0 0.0\n",
      "13.560679193979194 92.92802471686232\n",
      "\n",
      "Subsequent index of subtree: 1\n",
      "0.0 0.0\n",
      "12.616441779463939 93.53777525089437\n",
      "\n",
      "Subsequent index of subtree: 2\n",
      "0.0 0.0\n",
      "12.159435966411014 96.32224487616777\n",
      "\n",
      "Subsequent index of subtree: 3\n",
      "0.0 0.0\n",
      "13.089526189908044 98.88107030818435\n",
      "\n",
      "Subsequent index of subtree: 4\n",
      "0.0 0.0\n",
      "12.597810308200527 103.9110934928374\n",
      "\n",
      "Subsequent index of subtree: 5\n",
      "0.0 0.0\n",
      "11.844957725388362 95.58632877457018\n",
      "\n",
      "Subsequent index of subtree: 6\n",
      "0.0 0.0\n",
      "13.65799955071362 95.13057950132098\n",
      "\n",
      "Subsequent index of subtree: 7\n",
      "0.0 0.0\n",
      "13.589873646640367 110.82809975446061\n",
      "\n",
      "Subsequent index of subtree: 8\n",
      "0.0 0.0\n",
      "10.682463492943459 90.94229595989819\n",
      "\n",
      "Subsequent index of subtree: 9\n",
      "0.0 0.0\n",
      "9.80842129015308 97.8020577024967\n",
      "\n",
      "Subsequent index of subtree: 10\n",
      "0.0 0.0\n",
      "12.76498898629469 88.05545296291632\n",
      "\n",
      "Subsequent index of subtree: 11\n",
      "0.0 0.0\n",
      "12.57082082687886 93.0742342142329\n",
      "\n",
      "Subsequent index of subtree: 12\n",
      "0.0 0.0\n",
      "14.671779115136099 98.52328411630242\n",
      "\n",
      "Subsequent index of subtree: 13\n",
      "0.0 0.0\n",
      "11.698166510439187 97.5216396249314\n",
      "\n",
      "Subsequent index of subtree: 14\n",
      "0.0 0.0\n",
      "12.651770827103986 100.29907943324963\n",
      "\n",
      "Subsequent index of subtree: 15\n",
      "0.0 0.0\n",
      "11.298446882681898 97.94663126943576\n",
      "\n",
      "Subsequent index of subtree: 16\n",
      "0.0 0.0\n",
      "13.365911505073113 101.19756243960487\n",
      "\n",
      "Subsequent index of subtree: 17\n",
      "0.0 0.0\n",
      "12.718313954461696 93.27829247576122\n",
      "\n",
      "Subsequent index of subtree: 18\n",
      "0.0 0.0\n",
      "10.506790795262702 88.45073924569827\n",
      "\n",
      "Subsequent index of subtree: 19\n",
      "0.0 0.0\n",
      "12.501444360997295 99.12719102244348\n"
     ]
    }
   ],
   "execution_count": 49
  },
  {
   "metadata": {},
   "cell_type": "markdown",
   "source": "## 2.2 Early stopped Random Forest",
   "id": "1727357956401d29"
  },
  {
   "metadata": {
    "ExecuteTime": {
     "end_time": "2024-08-09T07:48:32.421076Z",
     "start_time": "2024-08-09T07:48:31.213259Z"
    }
   },
   "cell_type": "code",
   "source": [
    "from utils.rf_model import training_random_forest_early_stop\n",
    "\n",
    "params = {\n",
    "    'criterion'         : 'squared_error',\n",
    "    'max_depth'         : 5,\n",
    "    'min_samples_split' : 6,\n",
    "    'max_features'      : 1.0,\n",
    "    'bootstrap'         : True,\n",
    "    'oob_score'         : mean_squared_error,\n",
    "    'n_jobs'            : 1,\n",
    "    'random_state'      : 42}\n",
    "\n",
    "model, oob_score = training_random_forest_early_stop(\n",
    "    data_X = train_X, \n",
    "    data_Y = train_Y,\n",
    "    max_estimators = 1000, n_iter_no_change=50, \n",
    "    return_logs = True,\n",
    "    refit = True,\n",
    "    **params)\n",
    "\n",
    "print('Optimal number of estimators:', model.get_params()['n_estimators'])\n",
    "\n",
    "train_Y_pred = model.predict(train_X)\n",
    "test_Y_pred  = model.predict(test_X)\n",
    "\n",
    "print_regression_measure(train_Y, train_Y_pred)\n",
    "print_regression_measure(test_Y, test_Y_pred)"
   ],
   "id": "88d8e2a7d05be03b",
   "outputs": [
    {
     "name": "stdout",
     "output_type": "stream",
     "text": [
      "Optimal number of estimators: 60\n",
      " MAE : 31.733\n",
      " MSE : 1489.272\n",
      "MAPE : 0.294\n",
      "  R2 : 0.763\n",
      " MAE : 46.899\n",
      " MSE : 3465.631\n",
      "MAPE : 0.409\n",
      "  R2 : 0.321\n"
     ]
    }
   ],
   "execution_count": 54
  }
 ],
 "metadata": {
  "kernelspec": {
   "display_name": "Python 3",
   "language": "python",
   "name": "python3"
  },
  "language_info": {
   "codemirror_mode": {
    "name": "ipython",
    "version": 2
   },
   "file_extension": ".py",
   "mimetype": "text/x-python",
   "name": "python",
   "nbconvert_exporter": "python",
   "pygments_lexer": "ipython2",
   "version": "2.7.6"
  }
 },
 "nbformat": 4,
 "nbformat_minor": 5
}
