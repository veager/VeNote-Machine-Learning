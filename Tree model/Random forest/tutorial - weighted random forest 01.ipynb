{
 "cells": [
  {
   "metadata": {},
   "cell_type": "markdown",
   "source": [
    "This tutorial aims to examine and understand how the *sample weights* work in the random forest model in `scikit-learn` library.\n",
    "\n",
    "**Assumptions**: *Sample weights* may affect the follow process:\n",
    "\n",
    "- bootstrap sampling\n",
    "\n",
    "    - not affected\n",
    "\n",
    "    - sample weights do **NOT** affected the bootstrapping probability\n",
    "\n",
    "- loss function (splitting criterion): \n",
    "\n",
    "    - affected\n",
    "\n",
    "    - sample weights **DO** affect the loss function, i.e., splitting criterion, of decision tree\n",
    "    \n",
    "- out-of-bag score\n",
    "\n",
    "    - not affected\n",
    "\n",
    "    - sample weights do **NOT** affect the estimation of oob score\n"
   ],
   "id": "3586aee062e9a0a3"
  },
  {
   "metadata": {
    "ExecuteTime": {
     "end_time": "2024-08-09T06:59:07.169493Z",
     "start_time": "2024-08-09T06:59:07.154576Z"
    }
   },
   "cell_type": "code",
   "source": [
    "import numpy as np\n",
    "import pandas as pd\n",
    "\n",
    "from sklearn.model_selection import train_test_split\n",
    "from sklearn.tree import DecisionTreeRegressor, plot_tree\n",
    "from sklearn.ensemble import RandomForestRegressor\n",
    "\n",
    "import matplotlib.pyplot as plt\n",
    "plt.style.use('default')\n",
    "\n",
    "from utils.model_measure import print_regression_measure"
   ],
   "id": "initial_id",
   "outputs": [],
   "execution_count": 13
  },
  {
   "metadata": {},
   "cell_type": "markdown",
   "source": [
    "# 1. Dataset\n",
    "\n",
    "a regression dataset"
   ],
   "id": "d28f9ed8d6fe37cd"
  },
  {
   "metadata": {
    "ExecuteTime": {
     "end_time": "2024-08-09T06:59:13.225166Z",
     "start_time": "2024-08-09T06:59:13.208085Z"
    }
   },
   "cell_type": "code",
   "source": [
    "from sklearn.datasets import load_diabetes\n",
    "data_X, data_Y = load_diabetes(return_X_y=True, as_frame=False)\n",
    "\n",
    "\n",
    "n_samples = len(data_X)\n",
    "\n",
    "# sample weights\n",
    "rng = np.random.default_rng(seed=42)\n",
    "data_weight = rng.normal(loc=0.0, scale=1.0, size=n_samples)\n",
    "data_weight = np.abs(data_weight) + 1.0\n",
    "\n",
    "train_idx, test_idx = train_test_split(range(n_samples), test_size=0.3, random_state=0)\n",
    "train_X, test_X = data_X[train_idx], data_X[test_idx]\n",
    "train_Y, test_Y = data_Y[train_idx], data_Y[test_idx]\n",
    "train_weight, test_weight = data_weight[train_idx], data_weight[test_idx]\n",
    "\n",
    "print('\\nShape of dataset:', data_X.shape, data_Y.shape, data_weight.shape,\n",
    "      '\\nShape of training set:', train_X.shape, train_Y.shape, train_weight.shape,\n",
    "      '\\nShape of testing set:', test_X.shape, test_Y.shape, test_weight.shape)"
   ],
   "id": "c423ec8c9b464c1f",
   "outputs": [
    {
     "name": "stdout",
     "output_type": "stream",
     "text": [
      "\n",
      "Shape of dataset: (442, 10) (442,) (442,) \n",
      "Shape of training set: (309, 10) (309,) (309,) \n",
      "Shape of testing set: (133, 10) (133,) (133,)\n"
     ]
    }
   ],
   "execution_count": 14
  },
  {
   "metadata": {
    "ExecuteTime": {
     "end_time": "2024-08-09T06:59:13.791693Z",
     "start_time": "2024-08-09T06:59:13.566672Z"
    }
   },
   "cell_type": "code",
   "source": [
    "fig, axes = plt.subplots(1, 2, figsize=(8, 3.5))\n",
    "\n",
    "ax = axes[0]\n",
    "ax.hist(data_weight, bins=40)\n",
    "ax.set_title('Distribution of sample weights')\n",
    "\n",
    "ax = axes[1]\n",
    "ax.hist(test_Y, bins=40)\n",
    "ax.set_title('Distribution of target')"
   ],
   "id": "895060618c6b6192",
   "outputs": [
    {
     "data": {
      "text/plain": [
       "Text(0.5, 1.0, 'Distribution of target')"
      ]
     },
     "execution_count": 15,
     "metadata": {},
     "output_type": "execute_result"
    },
    {
     "data": {
      "text/plain": [
       "<Figure size 800x350 with 2 Axes>"
      ],
      "image/png": "[encoded data removed]"
     },
     "metadata": {},
     "output_type": "display_data"
    }
   ],
   "execution_count": 15
  },
  {
   "metadata": {},
   "cell_type": "markdown",
   "source": [
    "# 2. Splitting criterion\n",
    "\n",
    "The most used criteria for RF regression includes: \n",
    "\n",
    "- squared error: `criterion=squared_error`\n",
    "\n",
    "    - explained in `sklearn.metrics.mean_squared_error`\n",
    "\n",
    "- poisson deviance: `criterion=poisson`\n",
    "\n",
    "    - explained in `sklearn.metrics.mean_poisson_deviance`\n",
    "\n",
    "The deviance of a node is defined as:\n",
    "\n",
    "$$\n",
    "\\begin{aligned}\n",
    "\\text{Unweighted samples:} & & D(y) = \\frac{1}{N} \\sum_{i=1}^N L(y_i, \\bar{y})\n",
    "\\\\\n",
    "\\text{Weighted samples:} & & D(y) = \\dfrac{\\sum_{i=1}^N w_i \\, L(y_i, \\bar{y}) }{\\sum_{i=1}^N w_i}\n",
    "\\end{aligned}\n",
    "$$\n",
    "\n",
    "where $\\bar_{y}$ represent sample mean, and it incorporates sample weights if provided, i.e.,\n",
    "\n",
    "$$\n",
    "\\begin{aligned}\n",
    "\\text{Unweighted samples:} & & \\bar{y} = \\frac{1}{N} \\sum_{i=1}^N y_i\n",
    "\\\\\n",
    "\\text{Weighted samples:} & & \\bar{y} = \\dfrac{\\sum_{i=1}^N w_i \\, y_i}{\\sum_{i=1}^N w_i}\n",
    "\\end{aligned}\n",
    "$$\n"
   ],
   "id": "f159e47f702cd30d"
  },
  {
   "metadata": {
    "ExecuteTime": {
     "end_time": "2024-08-09T06:59:14.805966Z",
     "start_time": "2024-08-09T06:59:14.797051Z"
    }
   },
   "cell_type": "code",
   "source": [
    "def compute_deviance(arr, criterion='mse', weights=None):\n",
    "    \n",
    "    # weighted mean of sample sets\n",
    "    arr_mean = np.average(arr, weights=weights)\n",
    "    \n",
    "    if criterion.lower() in ['mean_squared_error', 'mse']:\n",
    "        dev = np.square(arr - arr_mean)\n",
    "    \n",
    "    elif criterion.lower() in ['mean_poisson_deviance', 'mpd']:\n",
    "        dev = 2 * arr * np.log(arr / arr_mean) + arr_mean - arr\n",
    "    \n",
    "    # weighted mean of samples' deviance\n",
    "    criterion = np.average(dev, weights=weights)\n",
    "    return criterion"
   ],
   "id": "ac1f31a83d164b0f",
   "outputs": [],
   "execution_count": 16
  },
  {
   "metadata": {
    "ExecuteTime": {
     "end_time": "2024-08-09T06:59:15.459318Z",
     "start_time": "2024-08-09T06:59:15.453310Z"
    }
   },
   "cell_type": "code",
   "source": [
    "from sklearn.metrics import mean_squared_error, mean_poisson_deviance\n",
    "\n",
    "arr = np.arange(1, 101)\n",
    "n_smaples = len(arr)\n",
    "\n",
    "arr_weight = np.random.random(n_smaples) * 100\n",
    "arr_mean   = np.average(arr)\n",
    "arr_wmean  = np.average(arr, weights=arr_weight)\n",
    "\n",
    "print('\\nUnweighted Mean:', arr_mean, \n",
    "      '\\n  Weighted mean:', arr_wmean)\n",
    "\n",
    "print('\\nScikit learn:',\n",
    "      '\\nUnweighted MSE:', mean_squared_error(arr, np.broadcast_to(arr_mean, arr.shape)),\n",
    "      '\\n  Weighted MSE:', mean_squared_error(arr, np.broadcast_to(arr_wmean, arr.shape), sample_weight=arr_weight),\n",
    "      '\\nUnweighted MPD:', mean_poisson_deviance(arr, np.broadcast_to(arr_mean, arr.shape)),\n",
    "      '\\n  Weighted MPD:', mean_poisson_deviance(arr, np.broadcast_to(arr_wmean, arr.shape), sample_weight=arr_weight),\n",
    "      '\\nOwn coding:',\n",
    "      '\\nUnweighted MSE:', compute_deviance(arr, criterion='mse'),\n",
    "      '\\n  Weighted MSE:', compute_deviance(arr, criterion='mse', weights=arr_weight),\n",
    "      '\\nUnweighted MPD:', compute_deviance(arr, criterion='mpd'),\n",
    "      '\\n  Weighted MPD:', compute_deviance(arr, criterion='mpd', weights=arr_weight), )"
   ],
   "id": "e97e0fe38ce4c701",
   "outputs": [
    {
     "name": "stdout",
     "output_type": "stream",
     "text": [
      "\n",
      "Unweighted Mean: 50.5 \n",
      "  Weighted mean: 49.727466853449556\n",
      "\n",
      "Scikit learn: \n",
      "Unweighted MSE: 833.25 \n",
      "  Weighted MSE: 871.8463446070915 \n",
      "Unweighted MPD: 19.01553219634623 \n",
      "  Weighted MPD: 20.116184399969008 \n",
      "Own coding: \n",
      "Unweighted MSE: 833.25 \n",
      "  Weighted MSE: 871.8463446070915 \n",
      "Unweighted MPD: 19.01553219634623 \n",
      "  Weighted MPD: 20.116184399968997\n"
     ]
    }
   ],
   "execution_count": 17
  },
  {
   "metadata": {},
   "cell_type": "markdown",
   "source": "# 3. Decision tree",
   "id": "c6e271ee334c6bc4"
  },
  {
   "metadata": {
    "ExecuteTime": {
     "end_time": "2024-08-09T06:59:16.240570Z",
     "start_time": "2024-08-09T06:59:16.234569Z"
    }
   },
   "cell_type": "code",
   "source": [
    "model = DecisionTreeRegressor(\n",
    "    criterion='squared_error', splitter='best', random_state=0, max_depth=4, min_samples_split=5)\n",
    "\n",
    "model.fit(train_X, train_Y)\n",
    "data_Y_pred = model.predict(data_X)\n",
    "test_Y_pred = model.predict(test_X)\n",
    "\n",
    "print_regression_measure(test_Y, test_Y_pred)"
   ],
   "id": "80cec0f43216f7c0",
   "outputs": [
    {
     "name": "stdout",
     "output_type": "stream",
     "text": [
      " MAE : 51.926\n",
      " MSE : 4337.125\n",
      "MAPE : 0.441\n",
      "  R2 : 0.15\n"
     ]
    }
   ],
   "execution_count": 18
  },
  {
   "metadata": {
    "ExecuteTime": {
     "end_time": "2024-08-09T06:59:17.242591Z",
     "start_time": "2024-08-09T06:59:16.883880Z"
    }
   },
   "cell_type": "code",
   "source": [
    "plot_tree(model)\n",
    "# plt.savefig('tree_weighted_samples.jpg', dpi=600)\n",
    "# plt.savefig('tree.jpg', dpi=600)"
   ],
   "id": "14493d85711b63f3",
   "outputs": [
    {
     "data": {
      "text/plain": [
       "[Text(0.5267857142857143, 0.9, 'x[8] <= 0.022\\nsquared_error = 6286.442\\nsamples = 309\\nvalue = 152.12'),\n",
       " Text(0.2857142857142857, 0.7, 'x[2] <= 0.005\\nsquared_error = 4311.323\\nsamples = 212\\nvalue = 121.892'),\n",
       " Text(0.14285714285714285, 0.5, 'x[6] <= 0.021\\nsquared_error = 2566.526\\nsamples = 157\\nvalue = 103.369'),\n",
       " Text(0.07142857142857142, 0.3, 'x[8] <= -0.043\\nsquared_error = 3210.45\\nsamples = 90\\nvalue = 118.489'),\n",
       " Text(0.03571428571428571, 0.1, 'squared_error = 1964.604\\nsamples = 24\\nvalue = 86.25'),\n",
       " Text(0.10714285714285714, 0.1, 'squared_error = 3148.107\\nsamples = 66\\nvalue = 130.212'),\n",
       " Text(0.21428571428571427, 0.3, 'x[6] <= 0.17\\nsquared_error = 981.996\\nsamples = 67\\nvalue = 83.06'),\n",
       " Text(0.17857142857142858, 0.1, 'squared_error = 880.615\\nsamples = 66\\nvalue = 81.742'),\n",
       " Text(0.25, 0.1, 'squared_error = 0.0\\nsamples = 1\\nvalue = 170.0'),\n",
       " Text(0.42857142857142855, 0.5, 'x[3] <= 0.024\\nsquared_error = 5517.162\\nsamples = 55\\nvalue = 174.764'),\n",
       " Text(0.35714285714285715, 0.3, 'x[6] <= -0.001\\nsquared_error = 3212.595\\nsamples = 34\\nvalue = 147.588'),\n",
       " Text(0.32142857142857145, 0.1, 'squared_error = 2757.562\\nsamples = 22\\nvalue = 164.727'),\n",
       " Text(0.39285714285714285, 0.1, 'squared_error = 2520.972\\nsamples = 12\\nvalue = 116.167'),\n",
       " Text(0.5, 0.3, 'x[8] <= -0.031\\nsquared_error = 6116.848\\nsamples = 21\\nvalue = 218.762'),\n",
       " Text(0.4642857142857143, 0.1, 'squared_error = 1089.0\\nsamples = 2\\nvalue = 85.0'),\n",
       " Text(0.5357142857142857, 0.1, 'squared_error = 4564.449\\nsamples = 19\\nvalue = 232.842'),\n",
       " Text(0.7678571428571429, 0.7, 'x[2] <= 0.014\\nsquared_error = 4241.45\\nsamples = 97\\nvalue = 218.186'),\n",
       " Text(0.6785714285714286, 0.5, 'x[3] <= 0.06\\nsquared_error = 3732.702\\nsamples = 41\\nvalue = 176.927'),\n",
       " Text(0.6428571428571429, 0.3, 'x[7] <= 0.09\\nsquared_error = 3094.478\\nsamples = 37\\nvalue = 167.811'),\n",
       " Text(0.6071428571428571, 0.1, 'squared_error = 2756.689\\nsamples = 33\\nvalue = 159.091'),\n",
       " Text(0.6785714285714286, 0.1, 'squared_error = 78.688\\nsamples = 4\\nvalue = 239.75'),\n",
       " Text(0.7142857142857143, 0.3, 'squared_error = 1757.188\\nsamples = 4\\nvalue = 261.25'),\n",
       " Text(0.8571428571428571, 0.5, 'x[5] <= 0.022\\nsquared_error = 2455.131\\nsamples = 56\\nvalue = 248.393'),\n",
       " Text(0.7857142857142857, 0.3, 'x[2] <= 0.07\\nsquared_error = 1580.542\\nsamples = 33\\nvalue = 265.939'),\n",
       " Text(0.75, 0.1, 'squared_error = 1172.076\\nsamples = 23\\nvalue = 251.478'),\n",
       " Text(0.8214285714285714, 0.1, 'squared_error = 932.76\\nsamples = 10\\nvalue = 299.2'),\n",
       " Text(0.9285714285714286, 0.3, 'x[8] <= 0.063\\nsquared_error = 2634.431\\nsamples = 23\\nvalue = 223.217'),\n",
       " Text(0.8928571428571429, 0.1, 'squared_error = 2781.98\\nsamples = 14\\nvalue = 201.857'),\n",
       " Text(0.9642857142857143, 0.1, 'squared_error = 591.136\\nsamples = 9\\nvalue = 256.444')]"
      ]
     },
     "execution_count": 19,
     "metadata": {},
     "output_type": "execute_result"
    },
    {
     "data": {
      "text/plain": [
       "<Figure size 640x480 with 1 Axes>"
      ],
      "image/png": "[encoded data removed]"
     },
     "metadata": {},
     "output_type": "display_data"
    }
   ],
   "execution_count": 19
  },
  {
   "metadata": {},
   "cell_type": "markdown",
   "source": "# 4. Random forest",
   "id": "22e13daaf5399040"
  },
  {
   "metadata": {
    "ExecuteTime": {
     "end_time": "2024-08-09T06:19:49.468658Z",
     "start_time": "2024-08-09T06:19:49.456118Z"
    }
   },
   "cell_type": "code",
   "source": [
    "import tqdm\n",
    "import sklearn\n",
    "import warnings\n",
    "warnings.filterwarnings('ignore', category=UserWarning)"
   ],
   "id": "7abadb53a77f4622",
   "outputs": [],
   "execution_count": 2
  },
  {
   "metadata": {},
   "cell_type": "markdown",
   "source": [
    "## 4.1 Bootstrap\n",
    "\n",
    "Aims to explore whether the sample weights affect boostrap sampling"
   ],
   "id": "6ea0f91cc9d77"
  },
  {
   "metadata": {
    "ExecuteTime": {
     "end_time": "2024-08-09T06:19:50.623720Z",
     "start_time": "2024-08-09T06:19:50.312174Z"
    }
   },
   "cell_type": "code",
   "source": [
    "# extreme case\n",
    "train_weight_t = np.zeros_like(train_Y)\n",
    "train_weight_t[:10] = 1.\n",
    "\n",
    "# weighted model\n",
    "model_w = RandomForestRegressor(n_estimators=100, random_state=None)\n",
    "model_w.fit(train_X, train_Y, train_weight_t)\n",
    "\n",
    "sample_freq_w = pd.Series(np.concatenate(model_w.estimators_samples_)).value_counts().sort_index()\n",
    "sample_freq_w.name = 'Weighted'\n",
    "\n",
    "# unweighted model\n",
    "model_u = RandomForestRegressor(n_estimators=100, random_state=None)\n",
    "model_u.fit(train_X, train_Y)\n",
    "\n",
    "sample_freq_u = pd.Series(np.concatenate(model_u.estimators_samples_)).value_counts().sort_index()\n",
    "sample_freq_u.name = 'Unweighted'\n",
    "\n",
    "sample_freq = pd.concat([sample_freq_w, sample_freq_u], axis=1)\n",
    "sample_freq\n",
    "\n",
    "sample_freq.plot(xlabel='Sample index', ylabel='Frequency')"
   ],
   "id": "47fa19dc409a4062",
   "outputs": [
    {
     "ename": "NameError",
     "evalue": "name 'train_Y' is not defined",
     "output_type": "error",
     "traceback": [
      "\u001B[1;31m---------------------------------------------------------------------------\u001B[0m",
      "\u001B[1;31mNameError\u001B[0m                                 Traceback (most recent call last)",
      "Cell \u001B[1;32mIn[3], line 2\u001B[0m\n\u001B[0;32m      1\u001B[0m \u001B[38;5;66;03m# extreme case\u001B[39;00m\n\u001B[1;32m----> 2\u001B[0m train_weight_t \u001B[38;5;241m=\u001B[39m np\u001B[38;5;241m.\u001B[39mzeros_like(\u001B[43mtrain_Y\u001B[49m)\n\u001B[0;32m      3\u001B[0m train_weight_t[:\u001B[38;5;241m10\u001B[39m] \u001B[38;5;241m=\u001B[39m \u001B[38;5;241m1.\u001B[39m\n\u001B[0;32m      5\u001B[0m \u001B[38;5;66;03m# weighted model\u001B[39;00m\n",
      "\u001B[1;31mNameError\u001B[0m: name 'train_Y' is not defined"
     ]
    }
   ],
   "execution_count": 3
  },
  {
   "metadata": {},
   "cell_type": "markdown",
   "source": [
    "## 4.2 Out-of-bag scores\n",
    "\n",
    "Computation of oob scores based on oob prediction (`.oob_prediction_`).\n",
    "\n",
    "#### OOB prediction\n",
    "\n",
    "For each submodel (i.e., decision tree), predict the output for oob samples separately. For example\n",
    "\n",
    "|          | Submodel 1 | Submodel 2 | Submodel 3 | Submodel 4 |\n",
    "|----------|------------|------------|------------|------------|\n",
    "| Sample 1 | V          | $y_{12}$   | V          | $y_{14}$   |\n",
    "| Sample 2 | $y_{21}$   | $y_{22}$   | $y_{23}$   | V          |\n",
    "| Sample 3 | V          | $y_{32}$   | $y_{33}$   | V          |\n",
    "\n",
    "- \"V\" indicates the in-bag sample, i.e., the sample is used for the associated submodel\n",
    "\n",
    "- $y_{21}$ the out-of-bag prediction of sample 2 from submodel 1\n",
    "\n",
    "Finally, take average of all out-of-bag prediction, i.e.,\n",
    "\n",
    "$$\n",
    "\\hat_{y}^{oob}_1 = \\frac{y_{12} + y_{14}}{2} \\\\\n",
    "\\hat_{y}^{oob}_2= \\frac{y_{21} + y_{22} + y_{23}}{3} \\\\\n",
    "\\cdots\n",
    "$$\n",
    "\n",
    "#### OOB score\n",
    "\n",
    "The oob score is computed based the regular metric functions on the differences between oob predicted results and true values\n",
    "\n",
    "OOB score **NOT** include sample weights\n"
   ],
   "id": "179ca5f4ba2ebc53"
  },
  {
   "metadata": {
    "ExecuteTime": {
     "end_time": "2024-08-06T07:58:47.992013Z",
     "start_time": "2024-08-06T07:58:47.964255Z"
    }
   },
   "cell_type": "code",
   "source": [
    "def compute_oob_prediction(model, data_X):\n",
    "    # number of samples\n",
    "    n_samples = len(data_X)\n",
    "    n_estimators = model.get_params()['n_estimators']\n",
    "\n",
    "    sample_used_idx = model.estimators_samples_\n",
    "    oob_idx = [np.setdiff1d(np.arange(n_samples), idx) for idx in sample_used_idx]\n",
    "    \n",
    "    oob_pred = np.empty((n_samples, n_estimators))\n",
    "    oob_pred.fill(np.nan)\n",
    "    \n",
    "    for model_idx, (oob_id, submodel) in enumerate(zip(oob_idx, model.estimators_)):\n",
    "        # print(model_idx, oob_id)\n",
    "        oob_X = data_X[oob_id]\n",
    "        oob_Y_pred = submodel.predict(oob_X)\n",
    "        \n",
    "        oob_pred[oob_id, model_idx] = oob_Y_pred\n",
    "    \n",
    "    # nan number will be ignore\n",
    "    oob_pred = np.nanmean(oob_pred, axis=1)\n",
    "    \n",
    "    return oob_pred"
   ],
   "id": "eba9383247bc4e19",
   "outputs": [],
   "execution_count": 356
  },
  {
   "metadata": {
    "ExecuteTime": {
     "end_time": "2024-08-06T08:00:58.727566Z",
     "start_time": "2024-08-06T08:00:58.621370Z"
    }
   },
   "cell_type": "code",
   "source": [
    "sample_weight = train_weight\n",
    "\n",
    "metric_func = model.get_params()['oob_score']\n",
    "\n",
    "train_Y_oob_pred = model.oob_prediction_\n",
    "\n",
    "print('Error for oob prediction:', train_Y_oob_pred - compute_oob_prediction(model, train_X))\n",
    "\n",
    "print('\\nOob score (MSE):', model.oob_score_,\n",
    "      '\\nOob score (MSE) without sample weights:', metric_func(train_Y, train_Y_oob_pred, sample_weight=None),\n",
    "      '\\nOob score (MSE) with sample weights:', metric_func(train_Y, train_Y_oob_pred, sample_weight=train_weight))"
   ],
   "id": "7c17262a9f638b0b",
   "outputs": [
    {
     "name": "stdout",
     "output_type": "stream",
     "text": [
      "Error for oob prediction: [0. 0. 0. 0. 0. 0. 0. 0. 0. 0. 0. 0. 0. 0. 0. 0. 0. 0. 0. 0. 0. 0. 0. 0.\n",
      " 0. 0. 0. 0. 0. 0. 0. 0. 0. 0. 0. 0. 0. 0. 0. 0. 0. 0. 0. 0. 0. 0. 0. 0.\n",
      " 0. 0. 0. 0. 0. 0. 0. 0. 0. 0. 0. 0. 0. 0. 0. 0. 0. 0. 0. 0. 0. 0. 0. 0.\n",
      " 0. 0. 0. 0. 0. 0. 0. 0. 0. 0. 0. 0. 0. 0. 0. 0. 0. 0. 0. 0. 0. 0. 0. 0.\n",
      " 0. 0. 0. 0. 0. 0. 0. 0. 0. 0. 0. 0. 0. 0. 0. 0. 0. 0. 0. 0. 0. 0. 0. 0.\n",
      " 0. 0. 0. 0. 0. 0. 0. 0. 0. 0. 0. 0. 0. 0. 0. 0. 0. 0. 0. 0. 0. 0. 0. 0.\n",
      " 0. 0. 0. 0. 0. 0. 0. 0. 0. 0. 0. 0. 0. 0. 0. 0. 0. 0. 0. 0. 0. 0. 0. 0.\n",
      " 0. 0. 0. 0. 0. 0. 0. 0. 0. 0. 0. 0. 0. 0. 0. 0. 0. 0. 0. 0. 0. 0. 0. 0.\n",
      " 0. 0. 0. 0. 0. 0. 0. 0. 0. 0. 0. 0. 0. 0. 0. 0. 0. 0. 0. 0. 0. 0. 0. 0.\n",
      " 0. 0. 0. 0. 0. 0. 0. 0. 0. 0. 0. 0. 0. 0. 0. 0. 0. 0. 0. 0. 0. 0. 0. 0.\n",
      " 0. 0. 0. 0. 0. 0. 0. 0. 0. 0. 0. 0. 0. 0. 0. 0. 0. 0. 0. 0. 0. 0. 0. 0.\n",
      " 0. 0. 0. 0. 0. 0. 0. 0. 0. 0. 0. 0. 0. 0. 0. 0. 0. 0. 0. 0. 0. 0. 0. 0.\n",
      " 0. 0. 0. 0. 0. 0. 0. 0. 0. 0. 0. 0. 0. 0. 0. 0. 0. 0. 0. 0. 0.]\n",
      "\n",
      "Oob score (MSE): 3302.1608919165355 \n",
      "Oob score (MSE) without sample weights: 3302.1608919165355 \n",
      "Oob score (MSE) with sample weights: 3251.007569298532\n"
     ]
    }
   ],
   "execution_count": 360
  }
 ],
 "metadata": {
  "kernelspec": {
   "display_name": "Python 3",
   "language": "python",
   "name": "python3"
  },
  "language_info": {
   "codemirror_mode": {
    "name": "ipython",
    "version": 2
   },
   "file_extension": ".py",
   "mimetype": "text/x-python",
   "name": "python",
   "nbconvert_exporter": "python",
   "pygments_lexer": "ipython2",
   "version": "2.7.6"
  }
 },
 "nbformat": 4,
 "nbformat_minor": 5
}
