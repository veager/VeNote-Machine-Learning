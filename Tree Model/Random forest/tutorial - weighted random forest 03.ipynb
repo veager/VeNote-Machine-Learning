{
 "cells": [
  {
   "cell_type": "code",
   "id": "initial_id",
   "metadata": {
    "collapsed": true,
    "ExecuteTime": {
     "end_time": "2024-08-18T07:12:17.789532Z",
     "start_time": "2024-08-18T07:12:17.784725Z"
    }
   },
   "source": [
    "import tqdm\n",
    "import numpy as np\n",
    "import pandas as pd\n",
    "\n",
    "from sklearn.model_selection import train_test_split\n",
    "from sklearn.tree import DecisionTreeRegressor, plot_tree\n",
    "from sklearn.ensemble import RandomForestRegressor\n",
    "\n",
    "import matplotlib.pyplot as plt\n",
    "plt.style.use('default')\n",
    "\n",
    "from utils.model_measure import print_regression_measure, measure_regression\n",
    "from sklearn.metrics import root_mean_squared_error"
   ],
   "outputs": [],
   "execution_count": 21
  },
  {
   "metadata": {},
   "cell_type": "markdown",
   "source": "# 1. Dataset",
   "id": "eda390872026daef"
  },
  {
   "metadata": {
    "ExecuteTime": {
     "end_time": "2024-08-18T07:12:17.818027Z",
     "start_time": "2024-08-18T07:12:17.800550Z"
    }
   },
   "cell_type": "code",
   "source": [
    "from sklearn.datasets import load_diabetes\n",
    "data_X, data_Y = load_diabetes(return_X_y=True, as_frame=False)\n",
    "\n",
    "n_samples = len(data_X)\n",
    "\n",
    "# sample weights\n",
    "rng = np.random.default_rng(seed=42)\n",
    "data_weight = rng.normal(loc=0.0, scale=1.0, size=n_samples)\n",
    "data_weight = np.abs(data_weight) + 1.0\n",
    "\n",
    "train_idx, test_idx = train_test_split(range(n_samples), test_size=0.3, random_state=0)\n",
    "train_X, test_X = data_X[train_idx], data_X[test_idx]\n",
    "train_Y, test_Y = data_Y[train_idx], data_Y[test_idx]\n",
    "train_weight, test_weight = data_weight[train_idx], data_weight[test_idx]\n",
    "\n",
    "print('\\nShape of dataset:', data_X.shape, data_Y.shape, data_weight.shape,\n",
    "      '\\nShape of training set:', train_X.shape, train_Y.shape, train_weight.shape,\n",
    "      '\\nShape of testing set:', test_X.shape, test_Y.shape, test_weight.shape)"
   ],
   "id": "184b4b283e01d093",
   "outputs": [
    {
     "name": "stdout",
     "output_type": "stream",
     "text": [
      "\n",
      "Shape of dataset: (442, 10) (442,) (442,) \n",
      "Shape of training set: (309, 10) (309,) (309,) \n",
      "Shape of testing set: (133, 10) (133,) (133,)\n"
     ]
    }
   ],
   "execution_count": 22
  },
  {
   "metadata": {
    "ExecuteTime": {
     "end_time": "2024-08-18T07:12:17.987200Z",
     "start_time": "2024-08-18T07:12:17.832045Z"
    }
   },
   "cell_type": "code",
   "source": [
    "from sklearn.ensemble import RandomForestRegressor\n",
    "\n",
    "model = RandomForestRegressor(n_estimators=100, random_state=0)\n",
    "model.fit(train_X, train_Y)\n",
    "\n",
    "feat_imp - model.feature_importances_"
   ],
   "id": "64f7561850f80e36",
   "outputs": [
    {
     "data": {
      "text/plain": [
       "array([6.93889390e-18, 0.00000000e+00, 0.00000000e+00, 1.38777878e-17,\n",
       "       0.00000000e+00, 0.00000000e+00, 0.00000000e+00, 3.46944695e-18,\n",
       "       0.00000000e+00, 0.00000000e+00])"
      ]
     },
     "execution_count": 23,
     "metadata": {},
     "output_type": "execute_result"
    }
   ],
   "execution_count": 23
  },
  {
   "metadata": {
    "ExecuteTime": {
     "end_time": "2024-08-18T07:12:17.990468Z",
     "start_time": "2024-08-18T07:12:17.987200Z"
    }
   },
   "cell_type": "code",
   "source": "from utils.weighted_random_forest import WeightedRandomForestRegressor",
   "id": "a71ff80ebdbcc0a0",
   "outputs": [],
   "execution_count": 24
  },
  {
   "metadata": {
    "ExecuteTime": {
     "end_time": "2024-08-18T07:12:21.396561Z",
     "start_time": "2024-08-18T07:12:17.990468Z"
    }
   },
   "cell_type": "code",
   "source": [
    "model = WeightedRandomForestRegressor(\n",
    "    n_estimators=2000, random_state=None,\n",
    "    bootstrap=True, max_samples=1.0,\n",
    "    bootstrap_features=True, max_features=1.0,\n",
    "    weighted_bootstrap=True, weighted_training=False)\n",
    "\n",
    "model.fit(train_X, train_Y, sample_weight=train_weight)\n",
    "model.feature_importances_\n",
    "\n",
    "print(np.around(model.feature_importances_, 3))"
   ],
   "id": "50f0daef34f2b5a3",
   "outputs": [
    {
     "name": "stdout",
     "output_type": "stream",
     "text": [
      "[0.051 0.008 0.303 0.099 0.045 0.047 0.063 0.027 0.301 0.056]\n"
     ]
    }
   ],
   "execution_count": 25
  },
  {
   "metadata": {
    "ExecuteTime": {
     "end_time": "2024-08-18T07:12:21.401265Z",
     "start_time": "2024-08-18T07:12:21.396561Z"
    }
   },
   "cell_type": "code",
   "source": [
    "def model_evaluation(model, train_X, train_Y, test_X, test_Y, train_weight, test_weight, weighted_fitting=False):\n",
    "    \n",
    "    if weighted_fitting:\n",
    "        model.fit(train_X, train_Y, train_weight)\n",
    "    else:\n",
    "        model.fit(train_X, train_Y)\n",
    "    \n",
    "    measure = dict({'oob_rmse' : model.oob_score_})\n",
    "\n",
    "    train_Y_pred = model.predict(train_X)\n",
    "    test_Y_pred = model.predict(test_X)\n",
    "\n",
    "    train_m = measure_regression(train_Y, train_Y_pred, train_weight)\n",
    "    test_m  = measure_regression(test_Y, test_Y_pred, test_weight)\n",
    "\n",
    "    measure.update({f'train_{k}' : v for k, v in train_m.items()})\n",
    "    measure.update({f'test_{k}' : v for k, v in test_m.items()})\n",
    "    \n",
    "    return measure"
   ],
   "id": "abf619eaced26b2e",
   "outputs": [],
   "execution_count": 26
  },
  {
   "metadata": {
    "ExecuteTime": {
     "end_time": "2024-08-18T07:12:29.001758Z",
     "start_time": "2024-08-18T07:12:21.402078Z"
    }
   },
   "cell_type": "code",
   "source": [
    "model = WeightedRandomForestRegressor(\n",
    "    n_estimators=1000, random_state=42,\n",
    "    bootstrap=True, max_samples=1.0,\n",
    "    bootstrap_features=False, max_features=None,\n",
    "    oob_score = True,\n",
    "    weighted_bootstrap=True, weighted_training=False)\n",
    "\n",
    "peformance = {}\n",
    "\n",
    "model.set_params(weighted_bootstrap=False, weighted_training=False)\n",
    "peformance['BU-TU'] = model_evaluation(model, train_X, train_Y, test_X, test_Y, train_weight, test_weight, weighted_fitting=False)\n",
    "\n",
    "model.set_params(weighted_bootstrap=True, weighted_training=False)\n",
    "peformance['BW-TU'] = model_evaluation(model, train_X, train_Y, test_X, test_Y, train_weight, test_weight, weighted_fitting=False)\n",
    "\n",
    "model.set_params(weighted_bootstrap=False, weighted_training=True)\n",
    "peformance['BU-TW'] = model_evaluation(model, train_X, train_Y, test_X, test_Y, train_weight, test_weight, weighted_fitting=False)\n",
    "\n",
    "model.set_params(weighted_bootstrap=True, weighted_training=True)\n",
    "peformance['BW-TW'] = model_evaluation(model, train_X, train_Y, test_X, test_Y, train_weight, test_weight, weighted_fitting=False)\n",
    "\n",
    "pd.DataFrame.from_dict(peformance).T"
   ],
   "id": "fc452675738678b9",
   "outputs": [
    {
     "data": {
      "text/plain": [
       "       oob_rmse  train_mae   train_mse  train_rmse  train_mape  train_r2  \\\n",
       "BU-TU  0.466989  17.357882  445.316262   21.102518    0.153632  0.928097   \n",
       "BW-TU  0.466019  16.348565  453.630299   21.298599    0.145894  0.912337   \n",
       "BU-TW  0.467631  17.347628  447.369420   21.151109    0.153190  0.928094   \n",
       "BW-TW  0.458482  16.497199  457.608683   21.391790    0.147206  0.912117   \n",
       "\n",
       "        test_mae     test_mse  test_rmse  test_mape   test_r2  \n",
       "BU-TU  46.810676  3401.080932  58.318787   0.394511  0.305091  \n",
       "BW-TU  47.896323  3514.222928  59.280882   0.407046  0.278956  \n",
       "BU-TW  47.362416  3464.786771  58.862439   0.402650  0.291201  \n",
       "BW-TW  47.912723  3497.136256  59.136590   0.409547  0.283381  "
      ],
      "text/html": [
       "<div>\n",
       "<style scoped>\n",
       "    .dataframe tbody tr th:only-of-type {\n",
       "        vertical-align: middle;\n",
       "    }\n",
       "\n",
       "    .dataframe tbody tr th {\n",
       "        vertical-align: top;\n",
       "    }\n",
       "\n",
       "    .dataframe thead th {\n",
       "        text-align: right;\n",
       "    }\n",
       "</style>\n",
       "<table border=\"1\" class=\"dataframe\">\n",
       "  <thead>\n",
       "    <tr style=\"text-align: right;\">\n",
       "      <th></th>\n",
       "      <th>oob_rmse</th>\n",
       "      <th>train_mae</th>\n",
       "      <th>train_mse</th>\n",
       "      <th>train_rmse</th>\n",
       "      <th>train_mape</th>\n",
       "      <th>train_r2</th>\n",
       "      <th>test_mae</th>\n",
       "      <th>test_mse</th>\n",
       "      <th>test_rmse</th>\n",
       "      <th>test_mape</th>\n",
       "      <th>test_r2</th>\n",
       "    </tr>\n",
       "  </thead>\n",
       "  <tbody>\n",
       "    <tr>\n",
       "      <th>BU-TU</th>\n",
       "      <td>0.466989</td>\n",
       "      <td>17.357882</td>\n",
       "      <td>445.316262</td>\n",
       "      <td>21.102518</td>\n",
       "      <td>0.153632</td>\n",
       "      <td>0.928097</td>\n",
       "      <td>46.810676</td>\n",
       "      <td>3401.080932</td>\n",
       "      <td>58.318787</td>\n",
       "      <td>0.394511</td>\n",
       "      <td>0.305091</td>\n",
       "    </tr>\n",
       "    <tr>\n",
       "      <th>BW-TU</th>\n",
       "      <td>0.466019</td>\n",
       "      <td>16.348565</td>\n",
       "      <td>453.630299</td>\n",
       "      <td>21.298599</td>\n",
       "      <td>0.145894</td>\n",
       "      <td>0.912337</td>\n",
       "      <td>47.896323</td>\n",
       "      <td>3514.222928</td>\n",
       "      <td>59.280882</td>\n",
       "      <td>0.407046</td>\n",
       "      <td>0.278956</td>\n",
       "    </tr>\n",
       "    <tr>\n",
       "      <th>BU-TW</th>\n",
       "      <td>0.467631</td>\n",
       "      <td>17.347628</td>\n",
       "      <td>447.369420</td>\n",
       "      <td>21.151109</td>\n",
       "      <td>0.153190</td>\n",
       "      <td>0.928094</td>\n",
       "      <td>47.362416</td>\n",
       "      <td>3464.786771</td>\n",
       "      <td>58.862439</td>\n",
       "      <td>0.402650</td>\n",
       "      <td>0.291201</td>\n",
       "    </tr>\n",
       "    <tr>\n",
       "      <th>BW-TW</th>\n",
       "      <td>0.458482</td>\n",
       "      <td>16.497199</td>\n",
       "      <td>457.608683</td>\n",
       "      <td>21.391790</td>\n",
       "      <td>0.147206</td>\n",
       "      <td>0.912117</td>\n",
       "      <td>47.912723</td>\n",
       "      <td>3497.136256</td>\n",
       "      <td>59.136590</td>\n",
       "      <td>0.409547</td>\n",
       "      <td>0.283381</td>\n",
       "    </tr>\n",
       "  </tbody>\n",
       "</table>\n",
       "</div>"
      ]
     },
     "execution_count": 27,
     "metadata": {},
     "output_type": "execute_result"
    }
   ],
   "execution_count": 27
  }
 ],
 "metadata": {
  "kernelspec": {
   "display_name": "Python 3",
   "language": "python",
   "name": "python3"
  },
  "language_info": {
   "codemirror_mode": {
    "name": "ipython",
    "version": 2
   },
   "file_extension": ".py",
   "mimetype": "text/x-python",
   "name": "python",
   "nbconvert_exporter": "python",
   "pygments_lexer": "ipython2",
   "version": "2.7.6"
  }
 },
 "nbformat": 4,
 "nbformat_minor": 5
}
