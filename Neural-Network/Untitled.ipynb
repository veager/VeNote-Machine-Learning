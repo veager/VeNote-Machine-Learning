{
 "cells": [
  {
   "cell_type": "code",
   "execution_count": 9,
   "metadata": {},
   "outputs": [],
   "source": [
    "# 加载数据集\n",
    "from sklearn.datasets import load_boston, load_diabetes\n",
    "boston = load_diabetes()\n",
    "\n",
    "data_X = boston.data\n",
    "data_y = boston.target.reshape(-1, 1)\n",
    "\n",
    "# 归一化\n",
    "from sklearn.preprocessing import MinMaxScaler\n",
    "scaler_X = MinMaxScaler().fit(data_X)\n",
    "scaler_y = MinMaxScaler().fit(data_y)\n",
    "\n",
    "data_X = scaler_X.transform(data_X)\n",
    "data_y = scaler_y.transform(data_y)\n",
    "\n",
    "# 划分样本\n",
    "from sklearn.model_selection import train_test_split\n",
    "train_X, test_X, train_y, test_y = train_test_split(data_X, data_y, test_size=0.30, random_state=42)"
   ]
  },
  {
   "cell_type": "markdown",
   "metadata": {},
   "source": [
    "### ANN 自己编写实现\n",
    "> 参考文献<br/>\n",
    "> [1] [神经网络与深度学习]() P95-98<br/>\n",
    "> [2] [Learning pytorch with examples](https://pytorch.org/tutorials/beginner/pytorch_with_examples.html), PyTorch Tutorials<br/>\n",
    "- 存在的一些问题与注意事项\n",
    "1. 初始化的权重分布与取值范围对模型有较大的影响\n",
    "2. 《神经网络与深度学习》中推导过程是以单个样本为例子\n",
    "3. 在`npnn`和`ptnn`模型中，`ReLU`激活函数效果较好，`Sigmoid`函数和`tanh`函数效果较差\n",
    "4. "
   ]
  },
  {
   "cell_type": "code",
   "execution_count": 10,
   "metadata": {},
   "outputs": [],
   "source": [
    "# numpy 实现 ANN\n",
    "from pyann import NumpyNeuralNetwork as npnn\n",
    "# pytorch 自动微分 实现 ANN\n",
    "from pyann import PytorchNeuralNetwork as ptnn\n",
    "# pyttorch 自建model 实现 ANN\n",
    "from pyann import PytorchModelNeuralNetwork as ptmnn"
   ]
  },
  {
   "cell_type": "code",
   "execution_count": 11,
   "metadata": {},
   "outputs": [
    {
     "name": "stdout",
     "output_type": "stream",
     "text": [
      "t:   0, loss(mse):824663.112906\n",
      "t: 100, loss(mse):  775.298171\n",
      "t: 200, loss(mse):  206.049184\n",
      "t: 300, loss(mse):  103.555968\n",
      "t: 400, loss(mse):   71.095960\n",
      "t: 500, loss(mse):   58.160107\n",
      "t: 600, loss(mse):   52.294320\n",
      "t: 700, loss(mse):   49.525929\n",
      "t: 800, loss(mse):   48.134856\n",
      "t: 900, loss(mse):   47.499423\n"
     ]
    },
    {
     "data": {
      "text/plain": [
       "[<matplotlib.lines.Line2D at 0x174e273d128>]"
      ]
     },
     "execution_count": 11,
     "metadata": {},
     "output_type": "execute_result"
    },
    {
     "data": {
      "image/png": "[encoded data removed]",
      "text/plain": [
       "<Figure size 432x288 with 1 Axes>"
      ]
     },
     "metadata": {
      "needs_background": "light"
     },
     "output_type": "display_data"
    }
   ],
   "source": [
    "import matplotlib.pyplot as plt\n",
    "\n",
    "ann = npnn(hidden_unit=40, learning_rate=0.00001, epochs=1000, verbose=100)\n",
    "ann.fit(train_X, train_y, test_X, test_y)\n",
    "\n",
    "plt.plot(ann.loss_history_train)\n",
    "plt.plot(ann.loss_history_valid)"
   ]
  },
  {
   "cell_type": "code",
   "execution_count": 12,
   "metadata": {},
   "outputs": [
    {
     "name": "stdout",
     "output_type": "stream",
     "text": [
      "t:   0, loss(mse):971975.625000\n",
      "t: 100, loss(mse):   68.265572\n",
      "t: 200, loss(mse):   68.265572\n",
      "t: 300, loss(mse):   68.265572\n",
      "t: 400, loss(mse):   68.265572\n",
      "t: 500, loss(mse):   68.265572\n",
      "t: 600, loss(mse):   68.265572\n",
      "t: 700, loss(mse):   68.265572\n",
      "t: 800, loss(mse):   68.265572\n",
      "t: 900, loss(mse):   68.265572\n"
     ]
    },
    {
     "data": {
      "text/plain": [
       "[<matplotlib.lines.Line2D at 0x174e48d5b38>]"
      ]
     },
     "execution_count": 12,
     "metadata": {},
     "output_type": "execute_result"
    },
    {
     "data": {
      "image/png": "[encoded data removed]",
      "text/plain": [
       "<Figure size 432x288 with 1 Axes>"
      ]
     },
     "metadata": {
      "needs_background": "light"
     },
     "output_type": "display_data"
    }
   ],
   "source": [
    "ann = ptnn(hidden_unit=40, learning_rate=0.00001, epochs=1000, verbose=100)\n",
    "ann.fit(train_X, train_y, test_X, test_y)\n",
    "\n",
    "plt.plot(ann.loss_history_train)\n",
    "plt.plot(ann.loss_history_valid)"
   ]
  },
  {
   "cell_type": "code",
   "execution_count": 13,
   "metadata": {},
   "outputs": [
    {
     "name": "stdout",
     "output_type": "stream",
     "text": [
      "t:   0, loss(mse):   27.170780\n",
      "t: 100, loss(mse):   14.712402\n",
      "t: 200, loss(mse):   12.409534\n",
      "t: 300, loss(mse):   11.033929\n",
      "t: 400, loss(mse):   10.200747\n",
      "t: 500, loss(mse):    9.689264\n",
      "t: 600, loss(mse):    9.362160\n",
      "t: 700, loss(mse):    9.145473\n",
      "t: 800, loss(mse):    8.990361\n",
      "t: 900, loss(mse):    8.872935\n"
     ]
    },
    {
     "data": {
      "text/plain": [
       "[<matplotlib.lines.Line2D at 0x174e491ee48>]"
      ]
     },
     "execution_count": 13,
     "metadata": {},
     "output_type": "execute_result"
    },
    {
     "data": {
      "image/png": "[encoded data removed]",
      "text/plain": [
       "<Figure size 432x288 with 1 Axes>"
      ]
     },
     "metadata": {
      "needs_background": "light"
     },
     "output_type": "display_data"
    }
   ],
   "source": [
    "ann = ptmnn(hidden_unit=40, learning_rate=0.00001, epochs=1000, verbose=100)\n",
    "ann.fit(train_X, train_y, test_X, test_y)\n",
    "\n",
    "plt.plot(ann.loss_history_train)\n",
    "plt.plot(ann.loss_history_valid)"
   ]
  }
 ],
 "metadata": {
  "kernelspec": {
   "display_name": "Python 3",
   "language": "python",
   "name": "python3"
  },
  "language_info": {
   "codemirror_mode": {
    "name": "ipython",
    "version": 3
   },
   "file_extension": ".py",
   "mimetype": "text/x-python",
   "name": "python",
   "nbconvert_exporter": "python",
   "pygments_lexer": "ipython3",
   "version": "3.7.3"
  }
 },
 "nbformat": 4,
 "nbformat_minor": 4
}
